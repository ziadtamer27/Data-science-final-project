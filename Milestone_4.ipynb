{
 "cells": [
  {
   "cell_type": "code",
   "execution_count": null,
   "id": "90a637c0",
   "metadata": {},
   "outputs": [],
   "source": [
    "from sklearn.metrics import accuracy_score, classification_report ,precision_score, recall_score, f1_score\n",
    "import joblib\n",
    "import pandas as pd\n",
    "import numpy as np\n",
    "from sklearn.model_selection import train_test_split\n",
    "from sklearn.preprocessing import StandardScaler\n",
    "from sklearn.metrics import roc_auc_score, roc_curve, auc\n",
    "from imblearn.over_sampling import SMOTE\n",
    "from collections import Counter\n",
    "import xgboost as xgb\n",
    "import mlflow\n",
    "import matplotlib.pyplot as plt"
   ]
  },
  {
   "cell_type": "code",
   "execution_count": 2,
   "id": "657833ce",
   "metadata": {},
   "outputs": [
    {
     "data": {
      "text/html": [
       "<div>\n",
       "<style scoped>\n",
       "    .dataframe tbody tr th:only-of-type {\n",
       "        vertical-align: middle;\n",
       "    }\n",
       "\n",
       "    .dataframe tbody tr th {\n",
       "        vertical-align: top;\n",
       "    }\n",
       "\n",
       "    .dataframe thead th {\n",
       "        text-align: right;\n",
       "    }\n",
       "</style>\n",
       "<table border=\"1\" class=\"dataframe\">\n",
       "  <thead>\n",
       "    <tr style=\"text-align: right;\">\n",
       "      <th></th>\n",
       "      <th>gender</th>\n",
       "      <th>age</th>\n",
       "      <th>hypertension</th>\n",
       "      <th>heart_disease</th>\n",
       "      <th>ever_married</th>\n",
       "      <th>work_type</th>\n",
       "      <th>Residence_type</th>\n",
       "      <th>avg_glucose_level</th>\n",
       "      <th>bmi</th>\n",
       "      <th>smoking_status</th>\n",
       "      <th>stroke</th>\n",
       "      <th>age_category</th>\n",
       "      <th>bmi_category</th>\n",
       "      <th>glucose_category</th>\n",
       "    </tr>\n",
       "  </thead>\n",
       "  <tbody>\n",
       "    <tr>\n",
       "      <th>0</th>\n",
       "      <td>0</td>\n",
       "      <td>0.817073</td>\n",
       "      <td>0</td>\n",
       "      <td>1</td>\n",
       "      <td>1</td>\n",
       "      <td>0</td>\n",
       "      <td>0</td>\n",
       "      <td>0.801265</td>\n",
       "      <td>0.745455</td>\n",
       "      <td>0</td>\n",
       "      <td>1</td>\n",
       "      <td>2</td>\n",
       "      <td>3</td>\n",
       "      <td>4</td>\n",
       "    </tr>\n",
       "    <tr>\n",
       "      <th>1</th>\n",
       "      <td>1</td>\n",
       "      <td>0.743902</td>\n",
       "      <td>0</td>\n",
       "      <td>0</td>\n",
       "      <td>1</td>\n",
       "      <td>1</td>\n",
       "      <td>1</td>\n",
       "      <td>0.679023</td>\n",
       "      <td>0.487879</td>\n",
       "      <td>1</td>\n",
       "      <td>1</td>\n",
       "      <td>2</td>\n",
       "      <td>2</td>\n",
       "      <td>4</td>\n",
       "    </tr>\n",
       "    <tr>\n",
       "      <th>2</th>\n",
       "      <td>0</td>\n",
       "      <td>0.975610</td>\n",
       "      <td>0</td>\n",
       "      <td>1</td>\n",
       "      <td>1</td>\n",
       "      <td>0</td>\n",
       "      <td>1</td>\n",
       "      <td>0.234512</td>\n",
       "      <td>0.621212</td>\n",
       "      <td>1</td>\n",
       "      <td>1</td>\n",
       "      <td>2</td>\n",
       "      <td>3</td>\n",
       "      <td>3</td>\n",
       "    </tr>\n",
       "    <tr>\n",
       "      <th>3</th>\n",
       "      <td>1</td>\n",
       "      <td>0.597561</td>\n",
       "      <td>0</td>\n",
       "      <td>0</td>\n",
       "      <td>1</td>\n",
       "      <td>0</td>\n",
       "      <td>0</td>\n",
       "      <td>0.536008</td>\n",
       "      <td>0.678788</td>\n",
       "      <td>2</td>\n",
       "      <td>1</td>\n",
       "      <td>1</td>\n",
       "      <td>3</td>\n",
       "      <td>2</td>\n",
       "    </tr>\n",
       "    <tr>\n",
       "      <th>4</th>\n",
       "      <td>1</td>\n",
       "      <td>0.963415</td>\n",
       "      <td>1</td>\n",
       "      <td>0</td>\n",
       "      <td>1</td>\n",
       "      <td>1</td>\n",
       "      <td>1</td>\n",
       "      <td>0.549349</td>\n",
       "      <td>0.363636</td>\n",
       "      <td>1</td>\n",
       "      <td>1</td>\n",
       "      <td>2</td>\n",
       "      <td>1</td>\n",
       "      <td>2</td>\n",
       "    </tr>\n",
       "  </tbody>\n",
       "</table>\n",
       "</div>"
      ],
      "text/plain": [
       "   gender       age  hypertension  heart_disease  ever_married  work_type  \\\n",
       "0       0  0.817073             0              1             1          0   \n",
       "1       1  0.743902             0              0             1          1   \n",
       "2       0  0.975610             0              1             1          0   \n",
       "3       1  0.597561             0              0             1          0   \n",
       "4       1  0.963415             1              0             1          1   \n",
       "\n",
       "   Residence_type  avg_glucose_level       bmi  smoking_status  stroke  \\\n",
       "0               0           0.801265  0.745455               0       1   \n",
       "1               1           0.679023  0.487879               1       1   \n",
       "2               1           0.234512  0.621212               1       1   \n",
       "3               0           0.536008  0.678788               2       1   \n",
       "4               1           0.549349  0.363636               1       1   \n",
       "\n",
       "   age_category  bmi_category  glucose_category  \n",
       "0             2             3                 4  \n",
       "1             2             2                 4  \n",
       "2             2             3                 3  \n",
       "3             1             3                 2  \n",
       "4             2             1                 2  "
      ]
     },
     "execution_count": 2,
     "metadata": {},
     "output_type": "execute_result"
    }
   ],
   "source": [
    "health_care = pd.read_csv(\"cleaned_data_2.csv\")\n",
    "health_care_df = pd.DataFrame(health_care)\n",
    "health_care_df.head()"
   ]
  },
  {
   "cell_type": "code",
   "execution_count": 3,
   "id": "8d2f855f",
   "metadata": {},
   "outputs": [
    {
     "name": "stdout",
     "output_type": "stream",
     "text": [
      "Data Shape: (5110, 14)\n",
      "\n",
      "Missing Values: 0\n",
      "\n",
      "Class Distribution:\n",
      " stroke\n",
      "0    0.951272\n",
      "1    0.048728\n",
      "Name: proportion, dtype: float64\n"
     ]
    }
   ],
   "source": [
    "print(\"Data Shape:\", health_care_df.shape)\n",
    "print(\"\\nMissing Values:\", health_care_df.isnull().sum().max())\n",
    "print(\"\\nClass Distribution:\\n\", health_care_df['stroke'].value_counts(normalize=True))"
   ]
  },
  {
   "cell_type": "code",
   "execution_count": 4,
   "id": "ef27b470",
   "metadata": {},
   "outputs": [],
   "source": [
    "X = health_care_df.drop(['stroke'], axis=1)\n",
    "y = health_care_df['stroke']"
   ]
  },
  {
   "cell_type": "code",
   "execution_count": 5,
   "id": "b3e99535",
   "metadata": {},
   "outputs": [
    {
     "name": "stdout",
     "output_type": "stream",
     "text": [
      "After SMOTE: Counter({0: 4861, 1: 3402})\n"
     ]
    }
   ],
   "source": [
    "smote = SMOTE(sampling_strategy=0.7,random_state=42)\n",
    "X_smote, y_smote = smote.fit_resample(X, y)\n",
    "print(\"After SMOTE:\", Counter(y_smote))"
   ]
  },
  {
   "cell_type": "code",
   "execution_count": 6,
   "id": "515b2a84",
   "metadata": {},
   "outputs": [],
   "source": [
    "X_train, X_test, y_train, y_test = train_test_split(X_smote, y_smote, test_size=0.2, stratify=y_smote, random_state=42)"
   ]
  },
  {
   "cell_type": "code",
   "execution_count": 7,
   "id": "61ce8d00",
   "metadata": {},
   "outputs": [
    {
     "name": "stdout",
     "output_type": "stream",
     "text": [
      "Class distribution in training: Counter({0: 3889, 1: 2721})\n"
     ]
    }
   ],
   "source": [
    "scaler = StandardScaler()\n",
    "X_train_scaled = scaler.fit_transform(X_train)\n",
    "X_test_scaled = scaler.transform(X_test)\n",
    "\n",
    "print(\"Class distribution in training:\", Counter(y_train))"
   ]
  },
  {
   "cell_type": "markdown",
   "id": "fb4603b0",
   "metadata": {},
   "source": [
    "# <span style=\"color:green\">Loading our model</span>"
   ]
  },
  {
   "cell_type": "code",
   "execution_count": 8,
   "id": "64f2d8ce",
   "metadata": {},
   "outputs": [],
   "source": [
    "xg_model = joblib.load(\"xgboost_model.pkl\")"
   ]
  },
  {
   "cell_type": "code",
   "execution_count": 9,
   "id": "0e969458",
   "metadata": {},
   "outputs": [],
   "source": [
    "xg_model.fit(X_train_scaled, y_train)\n",
    "y_pred = xg_model.predict(X_test_scaled)\n",
    "y_proba = xg_model.predict_proba(X_test_scaled)[:,1]\n",
    "acc = accuracy_score(y_test, y_pred)"
   ]
  },
  {
   "cell_type": "code",
   "execution_count": 10,
   "id": "7e451363",
   "metadata": {},
   "outputs": [
    {
     "name": "stdout",
     "output_type": "stream",
     "text": [
      "\n",
      "Classification Report For Logistic Regression :\n",
      "              precision    recall  f1-score   support\n",
      "\n",
      "           0       0.97      0.89      0.93       972\n",
      "           1       0.86      0.96      0.91       681\n",
      "\n",
      "    accuracy                           0.92      1653\n",
      "   macro avg       0.91      0.92      0.92      1653\n",
      "weighted avg       0.92      0.92      0.92      1653\n",
      "\n",
      "\n",
      "AUC-ROC For Logistic Regression : 0.978547645377471\n"
     ]
    }
   ],
   "source": [
    "print(\"\\nClassification Report For Logistic Regression :\")\n",
    "print(classification_report(y_test, y_pred))\n",
    "print(\"\\nAUC-ROC For Logistic Regression :\", roc_auc_score(y_test, y_proba))"
   ]
  },
  {
   "cell_type": "markdown",
   "id": "94dcd67f",
   "metadata": {},
   "source": [
    "# <span style=\"color:green\"> MLOps with MLflow\n",
    "</span>"
   ]
  },
  {
   "cell_type": "code",
   "execution_count": 11,
   "id": "9a8fa4b1",
   "metadata": {},
   "outputs": [
    {
     "name": "stderr",
     "output_type": "stream",
     "text": [
      "2025/05/11 11:12:49 INFO mlflow.tracking.fluent: Experiment with name 'Stroke-Prediction-XGBoost' does not exist. Creating a new experiment.\n"
     ]
    },
    {
     "data": {
      "text/plain": [
       "<Experiment: artifact_location='file:///d:/CODING/DEPI/Depi%20final%20project/mlruns/353621282367085112', creation_time=1746951169860, experiment_id='353621282367085112', last_update_time=1746951169860, lifecycle_stage='active', name='Stroke-Prediction-XGBoost', tags={}>"
      ]
     },
     "execution_count": 11,
     "metadata": {},
     "output_type": "execute_result"
    }
   ],
   "source": [
    "mlflow.set_experiment(\"Stroke-Prediction-XGBoost\")    "
   ]
  },
  {
   "cell_type": "code",
   "execution_count": 12,
   "id": "e353a2d2",
   "metadata": {},
   "outputs": [
    {
     "name": "stderr",
     "output_type": "stream",
     "text": [
      "d:\\myenv\\lib\\site-packages\\xgboost\\training.py:183: UserWarning: [11:12:50] WARNING: C:\\actions-runner\\_work\\xgboost\\xgboost\\src\\learner.cc:738: \n",
      "Parameters: { \"use_label_encoder\" } are not used.\n",
      "\n",
      "  bst.update(dtrain, iteration=i, fobj=obj)\n"
     ]
    }
   ],
   "source": [
    "if mlflow.active_run():\n",
    "    mlflow.end_run()\n",
    "with mlflow.start_run():\n",
    "    model = xgb.XGBClassifier(use_label_encoder=False, eval_metric='logloss')\n",
    "    model.fit(X_train, y_train)"
   ]
  },
  {
   "cell_type": "code",
   "execution_count": 13,
   "id": "7454038d",
   "metadata": {},
   "outputs": [],
   "source": [
    "preds = model.predict(X_test)\n",
    "acc = accuracy_score(y_test, preds)"
   ]
  },
  {
   "cell_type": "code",
   "execution_count": 14,
   "id": "a88ae6ac",
   "metadata": {},
   "outputs": [
    {
     "data": {
      "text/plain": [
       "'XGBoost'"
      ]
     },
     "execution_count": 14,
     "metadata": {},
     "output_type": "execute_result"
    }
   ],
   "source": [
    "mlflow.log_param(\"model_type\", \"XGBoost\")"
   ]
  },
  {
   "cell_type": "markdown",
   "id": "9e5af8b0",
   "metadata": {},
   "source": [
    "# <span style=\"color:green\"> Logging the metrics of our model\n",
    "</span>"
   ]
  },
  {
   "cell_type": "code",
   "execution_count": 15,
   "id": "8aadc94f",
   "metadata": {},
   "outputs": [],
   "source": [
    "\n",
    "mlflow.log_metric(\"accuracy\", acc)\n",
    "mlflow.log_metric(\"accuracy\", accuracy_score(y_test, y_pred))\n",
    "mlflow.log_metric(\"precision\", precision_score(y_test, y_pred))\n",
    "mlflow.log_metric(\"recall\", recall_score(y_test, y_pred))\n",
    "mlflow.log_metric(\"f1_score\", f1_score(y_test, y_pred))\n",
    "mlflow.log_metric(\"roc_auc\", roc_auc_score(y_test, y_proba))"
   ]
  },
  {
   "cell_type": "code",
   "execution_count": 16,
   "id": "05eb2e01",
   "metadata": {},
   "outputs": [
    {
     "name": "stderr",
     "output_type": "stream",
     "text": [
      "d:\\myenv\\lib\\site-packages\\xgboost\\sklearn.py:1028: UserWarning: [11:12:50] WARNING: C:\\actions-runner\\_work\\xgboost\\xgboost\\src\\c_api\\c_api.cc:1427: Saving model in the UBJSON format as default.  You can use file extension: `json`, `ubj` or `deprecated` to choose between formats.\n",
      "  self.get_booster().save_model(fname)\n",
      "2025/05/11 11:13:02 WARNING mlflow.models.model: Model logged without a signature and input example. Please set `input_example` parameter when logging the model to auto infer the model signature.\n"
     ]
    },
    {
     "name": "stdout",
     "output_type": "stream",
     "text": [
      "Logged XGBoost model with accuracy: 0.9341\n"
     ]
    }
   ],
   "source": [
    "mlflow.xgboost.log_model(model, artifact_path=\"xgb_model\")\n",
    "print(f\"Logged XGBoost model with accuracy: {acc:.4f}\")"
   ]
  },
  {
   "cell_type": "code",
   "execution_count": 17,
   "id": "d808c2c7",
   "metadata": {},
   "outputs": [
    {
     "data": {
      "image/png": "[encoded data removed]",
      "text/plain": [
       "<Figure size 640x480 with 1 Axes>"
      ]
     },
     "metadata": {},
     "output_type": "display_data"
    }
   ],
   "source": [
    "fpr, tpr, _ = roc_curve(y_test, y_proba)\n",
    "roc_auc = auc(fpr, tpr)\n",
    "\n",
    "plt.figure()\n",
    "plt.plot(fpr, tpr, label=f\"AUC = {roc_auc:.2f}\")\n",
    "plt.plot([0, 1], [0, 1], \"k--\")\n",
    "plt.xlabel(\"False Positive Rate\")\n",
    "plt.ylabel(\"True Positive Rate\")\n",
    "plt.title(\"ROC Curve\")\n",
    "plt.legend(loc=\"lower right\")\n",
    "plt.tight_layout()\n",
    "plt.savefig(\"roc_curve.png\")\n",
    "mlflow.log_artifact(\"roc_curve.png\")"
   ]
  }
 ],
 "metadata": {
  "kernelspec": {
   "display_name": "myenv",
   "language": "python",
   "name": "python3"
  },
  "language_info": {
   "codemirror_mode": {
    "name": "ipython",
    "version": 3
   },
   "file_extension": ".py",
   "mimetype": "text/x-python",
   "name": "python",
   "nbconvert_exporter": "python",
   "pygments_lexer": "ipython3",
   "version": "3.10.0"
  }
 },
 "nbformat": 4,
 "nbformat_minor": 5
}
